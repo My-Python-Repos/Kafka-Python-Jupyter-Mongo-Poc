{
 "cells": [
  {
   "cell_type": "code",
   "execution_count": 225,
   "metadata": {},
   "outputs": [],
   "source": [
    "from pandas import pandas\n",
    "from pydbgen import pydbgen\n",
    "import numpy as np\n",
    "from faker import Faker\n",
    "from faker.providers import internet\n",
    "from faker.providers import profile\n",
    "fake.add_provider(internet)\n",
    "fake.add_provider(profile)"
   ]
  },
  {
   "cell_type": "code",
   "execution_count": 226,
   "metadata": {},
   "outputs": [],
   "source": [
    "myDB=pydbgen.pydb()"
   ]
  },
  {
   "cell_type": "code",
   "execution_count": 227,
   "metadata": {},
   "outputs": [
    {
     "data": {
      "text/html": [
       "<div>\n",
       "<style scoped>\n",
       "    .dataframe tbody tr th:only-of-type {\n",
       "        vertical-align: middle;\n",
       "    }\n",
       "\n",
       "    .dataframe tbody tr th {\n",
       "        vertical-align: top;\n",
       "    }\n",
       "\n",
       "    .dataframe thead th {\n",
       "        text-align: right;\n",
       "    }\n",
       "</style>\n",
       "<table border=\"1\" class=\"dataframe\">\n",
       "  <thead>\n",
       "    <tr style=\"text-align: right;\">\n",
       "      <th></th>\n",
       "      <th>name</th>\n",
       "      <th>city</th>\n",
       "      <th>state</th>\n",
       "      <th>zipcode</th>\n",
       "      <th>ssn</th>\n",
       "      <th>code1</th>\n",
       "      <th>code2</th>\n",
       "    </tr>\n",
       "  </thead>\n",
       "  <tbody>\n",
       "    <tr>\n",
       "      <th>0</th>\n",
       "      <td>Shelby Lee</td>\n",
       "      <td>McLoud</td>\n",
       "      <td>West Virginia</td>\n",
       "      <td>55188</td>\n",
       "      <td>708-63-0150</td>\n",
       "      <td>None</td>\n",
       "      <td>None</td>\n",
       "    </tr>\n",
       "    <tr>\n",
       "      <th>1</th>\n",
       "      <td>Angela Fisher</td>\n",
       "      <td>Allenville</td>\n",
       "      <td>Pennsylvania</td>\n",
       "      <td>25860</td>\n",
       "      <td>836-58-2444</td>\n",
       "      <td>None</td>\n",
       "      <td>None</td>\n",
       "    </tr>\n",
       "    <tr>\n",
       "      <th>2</th>\n",
       "      <td>Stephanie Phelps</td>\n",
       "      <td>Shreve</td>\n",
       "      <td>Mississippi</td>\n",
       "      <td>22691</td>\n",
       "      <td>190-40-7139</td>\n",
       "      <td>None</td>\n",
       "      <td>None</td>\n",
       "    </tr>\n",
       "    <tr>\n",
       "      <th>3</th>\n",
       "      <td>Colleen Pena</td>\n",
       "      <td>Powder River</td>\n",
       "      <td>Rhode Island</td>\n",
       "      <td>45649</td>\n",
       "      <td>520-45-6531</td>\n",
       "      <td>None</td>\n",
       "      <td>None</td>\n",
       "    </tr>\n",
       "    <tr>\n",
       "      <th>4</th>\n",
       "      <td>Austin Miller</td>\n",
       "      <td>Etta</td>\n",
       "      <td>South Dakota</td>\n",
       "      <td>67162</td>\n",
       "      <td>543-03-3079</td>\n",
       "      <td>None</td>\n",
       "      <td>None</td>\n",
       "    </tr>\n",
       "  </tbody>\n",
       "</table>\n",
       "</div>"
      ],
      "text/plain": [
       "               name          city          state zipcode          ssn code1  \\\n",
       "0        Shelby Lee        McLoud  West Virginia   55188  708-63-0150  None   \n",
       "1     Angela Fisher    Allenville   Pennsylvania   25860  836-58-2444  None   \n",
       "2  Stephanie Phelps        Shreve    Mississippi   22691  190-40-7139  None   \n",
       "3      Colleen Pena  Powder River   Rhode Island   45649  520-45-6531  None   \n",
       "4     Austin Miller          Etta   South Dakota   67162  543-03-3079  None   \n",
       "\n",
       "  code2  \n",
       "0  None  \n",
       "1  None  \n",
       "2  None  \n",
       "3  None  \n",
       "4  None  "
      ]
     },
     "execution_count": 227,
     "metadata": {},
     "output_type": "execute_result"
    }
   ],
   "source": [
    "testdf=myDB.gen_dataframe(5,['name','city','state','zipcode','ssn','code1','code2'])\n",
    "testdf"
   ]
  },
  {
   "cell_type": "code",
   "execution_count": 228,
   "metadata": {},
   "outputs": [],
   "source": [
    "t1 = testdf.to_records(index=False)"
   ]
  },
  {
   "cell_type": "code",
   "execution_count": 229,
   "metadata": {},
   "outputs": [
    {
     "data": {
      "text/plain": [
       "numpy.recarray"
      ]
     },
     "execution_count": 229,
     "metadata": {},
     "output_type": "execute_result"
    }
   ],
   "source": [
    "type(t1)"
   ]
  },
  {
   "cell_type": "code",
   "execution_count": 230,
   "metadata": {},
   "outputs": [
    {
     "data": {
      "text/html": [
       "<div>\n",
       "<style scoped>\n",
       "    .dataframe tbody tr th:only-of-type {\n",
       "        vertical-align: middle;\n",
       "    }\n",
       "\n",
       "    .dataframe tbody tr th {\n",
       "        vertical-align: top;\n",
       "    }\n",
       "\n",
       "    .dataframe thead th {\n",
       "        text-align: right;\n",
       "    }\n",
       "</style>\n",
       "<table border=\"1\" class=\"dataframe\">\n",
       "  <thead>\n",
       "    <tr style=\"text-align: right;\">\n",
       "      <th></th>\n",
       "      <th>name</th>\n",
       "      <th>city</th>\n",
       "      <th>state</th>\n",
       "      <th>zipcode</th>\n",
       "      <th>ssn</th>\n",
       "      <th>code1</th>\n",
       "      <th>code2</th>\n",
       "    </tr>\n",
       "  </thead>\n",
       "  <tbody>\n",
       "    <tr>\n",
       "      <th>0</th>\n",
       "      <td>Shelby Lee</td>\n",
       "      <td>McLoud</td>\n",
       "      <td>West Virginia</td>\n",
       "      <td>55188</td>\n",
       "      <td>708-63-0150</td>\n",
       "      <td>83</td>\n",
       "      <td>Christopher Coleman</td>\n",
       "    </tr>\n",
       "    <tr>\n",
       "      <th>1</th>\n",
       "      <td>Angela Fisher</td>\n",
       "      <td>Allenville</td>\n",
       "      <td>Pennsylvania</td>\n",
       "      <td>25860</td>\n",
       "      <td>836-58-2444</td>\n",
       "      <td>83</td>\n",
       "      <td>Christopher Coleman</td>\n",
       "    </tr>\n",
       "    <tr>\n",
       "      <th>2</th>\n",
       "      <td>Stephanie Phelps</td>\n",
       "      <td>Shreve</td>\n",
       "      <td>Mississippi</td>\n",
       "      <td>22691</td>\n",
       "      <td>190-40-7139</td>\n",
       "      <td>83</td>\n",
       "      <td>Christopher Coleman</td>\n",
       "    </tr>\n",
       "    <tr>\n",
       "      <th>3</th>\n",
       "      <td>Colleen Pena</td>\n",
       "      <td>Powder River</td>\n",
       "      <td>Rhode Island</td>\n",
       "      <td>45649</td>\n",
       "      <td>520-45-6531</td>\n",
       "      <td>83</td>\n",
       "      <td>Christopher Coleman</td>\n",
       "    </tr>\n",
       "    <tr>\n",
       "      <th>4</th>\n",
       "      <td>Austin Miller</td>\n",
       "      <td>Etta</td>\n",
       "      <td>South Dakota</td>\n",
       "      <td>67162</td>\n",
       "      <td>543-03-3079</td>\n",
       "      <td>83</td>\n",
       "      <td>Christopher Coleman</td>\n",
       "    </tr>\n",
       "  </tbody>\n",
       "</table>\n",
       "</div>"
      ],
      "text/plain": [
       "               name          city          state zipcode          ssn  code1  \\\n",
       "0        Shelby Lee        McLoud  West Virginia   55188  708-63-0150     83   \n",
       "1     Angela Fisher    Allenville   Pennsylvania   25860  836-58-2444     83   \n",
       "2  Stephanie Phelps        Shreve    Mississippi   22691  190-40-7139     83   \n",
       "3      Colleen Pena  Powder River   Rhode Island   45649  520-45-6531     83   \n",
       "4     Austin Miller          Etta   South Dakota   67162  543-03-3079     83   \n",
       "\n",
       "                 code2  \n",
       "0  Christopher Coleman  \n",
       "1  Christopher Coleman  \n",
       "2  Christopher Coleman  \n",
       "3  Christopher Coleman  \n",
       "4  Christopher Coleman  "
      ]
     },
     "execution_count": 230,
     "metadata": {},
     "output_type": "execute_result"
    }
   ],
   "source": [
    "import random\n",
    "fake = Faker()\n",
    "testdf[\"code1\"] = random.randint(1, 100)\n",
    "testdf[\"code2\"] = fake.name()\n",
    "testdf\n"
   ]
  },
  {
   "cell_type": "code",
   "execution_count": 231,
   "metadata": {},
   "outputs": [],
   "source": [
    "#testdf[0,6] = 'tt'"
   ]
  },
  {
   "cell_type": "code",
   "execution_count": 232,
   "metadata": {},
   "outputs": [
    {
     "data": {
      "text/html": [
       "<div>\n",
       "<style scoped>\n",
       "    .dataframe tbody tr th:only-of-type {\n",
       "        vertical-align: middle;\n",
       "    }\n",
       "\n",
       "    .dataframe tbody tr th {\n",
       "        vertical-align: top;\n",
       "    }\n",
       "\n",
       "    .dataframe thead th {\n",
       "        text-align: right;\n",
       "    }\n",
       "</style>\n",
       "<table border=\"1\" class=\"dataframe\">\n",
       "  <thead>\n",
       "    <tr style=\"text-align: right;\">\n",
       "      <th></th>\n",
       "      <th>name</th>\n",
       "      <th>city</th>\n",
       "      <th>state</th>\n",
       "      <th>zipcode</th>\n",
       "      <th>ssn</th>\n",
       "      <th>code1</th>\n",
       "      <th>code2</th>\n",
       "    </tr>\n",
       "  </thead>\n",
       "  <tbody>\n",
       "    <tr>\n",
       "      <th>0</th>\n",
       "      <td>Shelby Lee</td>\n",
       "      <td>McLoud</td>\n",
       "      <td>West Virginia</td>\n",
       "      <td>55188</td>\n",
       "      <td>708-63-0150</td>\n",
       "      <td>83</td>\n",
       "      <td>bb</td>\n",
       "    </tr>\n",
       "    <tr>\n",
       "      <th>1</th>\n",
       "      <td>Angela Fisher</td>\n",
       "      <td>Allenville</td>\n",
       "      <td>Pennsylvania</td>\n",
       "      <td>25860</td>\n",
       "      <td>836-58-2444</td>\n",
       "      <td>83</td>\n",
       "      <td>Christopher Coleman</td>\n",
       "    </tr>\n",
       "    <tr>\n",
       "      <th>2</th>\n",
       "      <td>Stephanie Phelps</td>\n",
       "      <td>Shreve</td>\n",
       "      <td>Mississippi</td>\n",
       "      <td>22691</td>\n",
       "      <td>190-40-7139</td>\n",
       "      <td>83</td>\n",
       "      <td>Christopher Coleman</td>\n",
       "    </tr>\n",
       "    <tr>\n",
       "      <th>3</th>\n",
       "      <td>Colleen Pena</td>\n",
       "      <td>Powder River</td>\n",
       "      <td>Rhode Island</td>\n",
       "      <td>45649</td>\n",
       "      <td>520-45-6531</td>\n",
       "      <td>83</td>\n",
       "      <td>Christopher Coleman</td>\n",
       "    </tr>\n",
       "    <tr>\n",
       "      <th>4</th>\n",
       "      <td>Austin Miller</td>\n",
       "      <td>Etta</td>\n",
       "      <td>South Dakota</td>\n",
       "      <td>67162</td>\n",
       "      <td>543-03-3079</td>\n",
       "      <td>83</td>\n",
       "      <td>Christopher Coleman</td>\n",
       "    </tr>\n",
       "  </tbody>\n",
       "</table>\n",
       "</div>"
      ],
      "text/plain": [
       "               name          city          state zipcode          ssn  code1  \\\n",
       "0        Shelby Lee        McLoud  West Virginia   55188  708-63-0150     83   \n",
       "1     Angela Fisher    Allenville   Pennsylvania   25860  836-58-2444     83   \n",
       "2  Stephanie Phelps        Shreve    Mississippi   22691  190-40-7139     83   \n",
       "3      Colleen Pena  Powder River   Rhode Island   45649  520-45-6531     83   \n",
       "4     Austin Miller          Etta   South Dakota   67162  543-03-3079     83   \n",
       "\n",
       "                 code2  \n",
       "0                   bb  \n",
       "1  Christopher Coleman  \n",
       "2  Christopher Coleman  \n",
       "3  Christopher Coleman  \n",
       "4  Christopher Coleman  "
      ]
     },
     "execution_count": 232,
     "metadata": {},
     "output_type": "execute_result"
    }
   ],
   "source": [
    "testdf\n",
    "\n",
    "testdf.at[0,'code2'] = 'bb'\n",
    "testdf"
   ]
  },
  {
   "cell_type": "code",
   "execution_count": 233,
   "metadata": {},
   "outputs": [],
   "source": [
    "df = pandas.DataFrame(np.random.randn(5,3),columns=list('ABC'))"
   ]
  },
  {
   "cell_type": "code",
   "execution_count": 234,
   "metadata": {},
   "outputs": [
    {
     "data": {
      "text/plain": [
       "-2.3675792004654235"
      ]
     },
     "execution_count": 234,
     "metadata": {},
     "output_type": "execute_result"
    }
   ],
   "source": [
    "df.at[0,'A']"
   ]
  },
  {
   "cell_type": "code",
   "execution_count": 235,
   "metadata": {},
   "outputs": [
    {
     "name": "stdout",
     "output_type": "stream",
     "text": [
      "5\n"
     ]
    }
   ],
   "source": [
    "print(len(df.index))"
   ]
  },
  {
   "cell_type": "code",
   "execution_count": 236,
   "metadata": {},
   "outputs": [
    {
     "name": "stdout",
     "output_type": "stream",
     "text": [
      "0\n",
      "0\n",
      "0\n",
      "0\n",
      "0\n"
     ]
    }
   ],
   "source": [
    "for x in df.index:\n",
    "    print(0)\n",
    "    x = x+1"
   ]
  },
  {
   "cell_type": "code",
   "execution_count": 237,
   "metadata": {},
   "outputs": [],
   "source": [
    "for y in range(len(testdf.index)):\n",
    "    testdf.at[y,'code2'] =  fake.ipv4_private() #np.random.randn(5,3)\n",
    "    testdf.at[y,'sex'] =  fake.ein() #np.random.randn(5,3)"
   ]
  },
  {
   "cell_type": "code",
   "execution_count": 238,
   "metadata": {},
   "outputs": [
    {
     "data": {
      "text/html": [
       "<div>\n",
       "<style scoped>\n",
       "    .dataframe tbody tr th:only-of-type {\n",
       "        vertical-align: middle;\n",
       "    }\n",
       "\n",
       "    .dataframe tbody tr th {\n",
       "        vertical-align: top;\n",
       "    }\n",
       "\n",
       "    .dataframe thead th {\n",
       "        text-align: right;\n",
       "    }\n",
       "</style>\n",
       "<table border=\"1\" class=\"dataframe\">\n",
       "  <thead>\n",
       "    <tr style=\"text-align: right;\">\n",
       "      <th></th>\n",
       "      <th>name</th>\n",
       "      <th>city</th>\n",
       "      <th>state</th>\n",
       "      <th>zipcode</th>\n",
       "      <th>ssn</th>\n",
       "      <th>code1</th>\n",
       "      <th>code2</th>\n",
       "      <th>sex</th>\n",
       "    </tr>\n",
       "  </thead>\n",
       "  <tbody>\n",
       "    <tr>\n",
       "      <th>0</th>\n",
       "      <td>Shelby Lee</td>\n",
       "      <td>McLoud</td>\n",
       "      <td>West Virginia</td>\n",
       "      <td>55188</td>\n",
       "      <td>708-63-0150</td>\n",
       "      <td>83</td>\n",
       "      <td>10.61.44.39</td>\n",
       "      <td>13-6854043</td>\n",
       "    </tr>\n",
       "    <tr>\n",
       "      <th>1</th>\n",
       "      <td>Angela Fisher</td>\n",
       "      <td>Allenville</td>\n",
       "      <td>Pennsylvania</td>\n",
       "      <td>25860</td>\n",
       "      <td>836-58-2444</td>\n",
       "      <td>83</td>\n",
       "      <td>172.23.57.239</td>\n",
       "      <td>40-0136397</td>\n",
       "    </tr>\n",
       "    <tr>\n",
       "      <th>2</th>\n",
       "      <td>Stephanie Phelps</td>\n",
       "      <td>Shreve</td>\n",
       "      <td>Mississippi</td>\n",
       "      <td>22691</td>\n",
       "      <td>190-40-7139</td>\n",
       "      <td>83</td>\n",
       "      <td>172.19.145.64</td>\n",
       "      <td>38-2842233</td>\n",
       "    </tr>\n",
       "    <tr>\n",
       "      <th>3</th>\n",
       "      <td>Colleen Pena</td>\n",
       "      <td>Powder River</td>\n",
       "      <td>Rhode Island</td>\n",
       "      <td>45649</td>\n",
       "      <td>520-45-6531</td>\n",
       "      <td>83</td>\n",
       "      <td>172.21.129.201</td>\n",
       "      <td>80-4400707</td>\n",
       "    </tr>\n",
       "    <tr>\n",
       "      <th>4</th>\n",
       "      <td>Austin Miller</td>\n",
       "      <td>Etta</td>\n",
       "      <td>South Dakota</td>\n",
       "      <td>67162</td>\n",
       "      <td>543-03-3079</td>\n",
       "      <td>83</td>\n",
       "      <td>172.26.201.9</td>\n",
       "      <td>20-1149798</td>\n",
       "    </tr>\n",
       "  </tbody>\n",
       "</table>\n",
       "</div>"
      ],
      "text/plain": [
       "               name          city          state zipcode          ssn  code1  \\\n",
       "0        Shelby Lee        McLoud  West Virginia   55188  708-63-0150     83   \n",
       "1     Angela Fisher    Allenville   Pennsylvania   25860  836-58-2444     83   \n",
       "2  Stephanie Phelps        Shreve    Mississippi   22691  190-40-7139     83   \n",
       "3      Colleen Pena  Powder River   Rhode Island   45649  520-45-6531     83   \n",
       "4     Austin Miller          Etta   South Dakota   67162  543-03-3079     83   \n",
       "\n",
       "            code2         sex  \n",
       "0     10.61.44.39  13-6854043  \n",
       "1   172.23.57.239  40-0136397  \n",
       "2   172.19.145.64  38-2842233  \n",
       "3  172.21.129.201  80-4400707  \n",
       "4    172.26.201.9  20-1149798  "
      ]
     },
     "execution_count": 238,
     "metadata": {},
     "output_type": "execute_result"
    }
   ],
   "source": [
    "testdf"
   ]
  },
  {
   "cell_type": "code",
   "execution_count": null,
   "metadata": {},
   "outputs": [],
   "source": []
  }
 ],
 "metadata": {
  "kernelspec": {
   "display_name": "Python 3",
   "language": "python",
   "name": "python3"
  },
  "language_info": {
   "codemirror_mode": {
    "name": "ipython",
    "version": 3
   },
   "file_extension": ".py",
   "mimetype": "text/x-python",
   "name": "python",
   "nbconvert_exporter": "python",
   "pygments_lexer": "ipython3",
   "version": "3.6.4"
  }
 },
 "nbformat": 4,
 "nbformat_minor": 2
}
